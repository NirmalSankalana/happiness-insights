{
 "cells": [
  {
   "cell_type": "code",
   "execution_count": 3,
   "metadata": {},
   "outputs": [],
   "source": [
    "import pandas as pd\n",
    "import numpy as np"
   ]
  },
  {
   "cell_type": "code",
   "execution_count": 4,
   "metadata": {},
   "outputs": [],
   "source": [
    "df_2015 = pd.read_csv(\"2015.csv\")\n",
    "df_2016 = pd.read_csv(\"2016.csv\")\n",
    "df_2017 = pd.read_csv(\"2017.csv\")\n",
    "df_2018 = pd.read_csv(\"2018.csv\")\n",
    "df_2019 = pd.read_csv(\"2019.csv\")\n",
    "df_2020 = pd.read_csv(\"2020.csv\")\n",
    "df_2021 = pd.read_csv(\"2021.csv\")\n",
    "\n",
    "df_hdi = pd.read_csv(\"Human Development Index - Full.csv\")"
   ]
  },
  {
   "attachments": {},
   "cell_type": "markdown",
   "metadata": {},
   "source": [
    "# Rank and Score"
   ]
  },
  {
   "cell_type": "code",
   "execution_count": 5,
   "metadata": {},
   "outputs": [],
   "source": [
    "# df_2015.head()"
   ]
  },
  {
   "cell_type": "code",
   "execution_count": 6,
   "metadata": {},
   "outputs": [],
   "source": [
    "# df_2015.columns"
   ]
  },
  {
   "cell_type": "code",
   "execution_count": 7,
   "metadata": {},
   "outputs": [
    {
     "data": {
      "text/html": [
       "<div>\n",
       "<style scoped>\n",
       "    .dataframe tbody tr th:only-of-type {\n",
       "        vertical-align: middle;\n",
       "    }\n",
       "\n",
       "    .dataframe tbody tr th {\n",
       "        vertical-align: top;\n",
       "    }\n",
       "\n",
       "    .dataframe thead th {\n",
       "        text-align: right;\n",
       "    }\n",
       "</style>\n",
       "<table border=\"1\" class=\"dataframe\">\n",
       "  <thead>\n",
       "    <tr style=\"text-align: right;\">\n",
       "      <th></th>\n",
       "      <th>Country</th>\n",
       "      <th>Happiness Rank</th>\n",
       "      <th>Happiness Score</th>\n",
       "      <th>Corruption</th>\n",
       "    </tr>\n",
       "  </thead>\n",
       "  <tbody>\n",
       "    <tr>\n",
       "      <th>0</th>\n",
       "      <td>Switzerland</td>\n",
       "      <td>1</td>\n",
       "      <td>7.587</td>\n",
       "      <td>0.41978</td>\n",
       "    </tr>\n",
       "    <tr>\n",
       "      <th>1</th>\n",
       "      <td>Iceland</td>\n",
       "      <td>2</td>\n",
       "      <td>7.561</td>\n",
       "      <td>0.14145</td>\n",
       "    </tr>\n",
       "    <tr>\n",
       "      <th>2</th>\n",
       "      <td>Denmark</td>\n",
       "      <td>3</td>\n",
       "      <td>7.527</td>\n",
       "      <td>0.48357</td>\n",
       "    </tr>\n",
       "    <tr>\n",
       "      <th>3</th>\n",
       "      <td>Norway</td>\n",
       "      <td>4</td>\n",
       "      <td>7.522</td>\n",
       "      <td>0.36503</td>\n",
       "    </tr>\n",
       "    <tr>\n",
       "      <th>4</th>\n",
       "      <td>Canada</td>\n",
       "      <td>5</td>\n",
       "      <td>7.427</td>\n",
       "      <td>0.32957</td>\n",
       "    </tr>\n",
       "  </tbody>\n",
       "</table>\n",
       "</div>"
      ],
      "text/plain": [
       "       Country  Happiness Rank  Happiness Score  Corruption\n",
       "0  Switzerland               1            7.587     0.41978\n",
       "1      Iceland               2            7.561     0.14145\n",
       "2      Denmark               3            7.527     0.48357\n",
       "3       Norway               4            7.522     0.36503\n",
       "4       Canada               5            7.427     0.32957"
      ]
     },
     "execution_count": 7,
     "metadata": {},
     "output_type": "execute_result"
    }
   ],
   "source": [
    "df_2015 = df_2015[['Country', 'Happiness Rank', 'Happiness Score', 'Trust (Government Corruption)']]\n",
    "df_2015.rename(columns={'Trust (Government Corruption)':'Corruption'}, inplace=True)\n",
    "df_2015.head()"
   ]
  },
  {
   "cell_type": "code",
   "execution_count": 8,
   "metadata": {},
   "outputs": [],
   "source": [
    "# df_2016.columns"
   ]
  },
  {
   "cell_type": "code",
   "execution_count": 9,
   "metadata": {},
   "outputs": [
    {
     "data": {
      "text/html": [
       "<div>\n",
       "<style scoped>\n",
       "    .dataframe tbody tr th:only-of-type {\n",
       "        vertical-align: middle;\n",
       "    }\n",
       "\n",
       "    .dataframe tbody tr th {\n",
       "        vertical-align: top;\n",
       "    }\n",
       "\n",
       "    .dataframe thead th {\n",
       "        text-align: right;\n",
       "    }\n",
       "</style>\n",
       "<table border=\"1\" class=\"dataframe\">\n",
       "  <thead>\n",
       "    <tr style=\"text-align: right;\">\n",
       "      <th></th>\n",
       "      <th>Country</th>\n",
       "      <th>Happiness Rank</th>\n",
       "      <th>Happiness Score</th>\n",
       "      <th>Corruption</th>\n",
       "    </tr>\n",
       "  </thead>\n",
       "  <tbody>\n",
       "    <tr>\n",
       "      <th>0</th>\n",
       "      <td>Denmark</td>\n",
       "      <td>1</td>\n",
       "      <td>7.526</td>\n",
       "      <td>0.44453</td>\n",
       "    </tr>\n",
       "    <tr>\n",
       "      <th>1</th>\n",
       "      <td>Switzerland</td>\n",
       "      <td>2</td>\n",
       "      <td>7.509</td>\n",
       "      <td>0.41203</td>\n",
       "    </tr>\n",
       "    <tr>\n",
       "      <th>2</th>\n",
       "      <td>Iceland</td>\n",
       "      <td>3</td>\n",
       "      <td>7.501</td>\n",
       "      <td>0.14975</td>\n",
       "    </tr>\n",
       "    <tr>\n",
       "      <th>3</th>\n",
       "      <td>Norway</td>\n",
       "      <td>4</td>\n",
       "      <td>7.498</td>\n",
       "      <td>0.35776</td>\n",
       "    </tr>\n",
       "    <tr>\n",
       "      <th>4</th>\n",
       "      <td>Finland</td>\n",
       "      <td>5</td>\n",
       "      <td>7.413</td>\n",
       "      <td>0.41004</td>\n",
       "    </tr>\n",
       "  </tbody>\n",
       "</table>\n",
       "</div>"
      ],
      "text/plain": [
       "       Country  Happiness Rank  Happiness Score  Corruption\n",
       "0      Denmark               1            7.526     0.44453\n",
       "1  Switzerland               2            7.509     0.41203\n",
       "2      Iceland               3            7.501     0.14975\n",
       "3       Norway               4            7.498     0.35776\n",
       "4      Finland               5            7.413     0.41004"
      ]
     },
     "execution_count": 9,
     "metadata": {},
     "output_type": "execute_result"
    }
   ],
   "source": [
    "df_2016 = df_2016[['Country', 'Happiness Rank', 'Happiness Score', 'Trust (Government Corruption)']]\n",
    "df_2016.rename(columns={'Trust (Government Corruption)':'Corruption'}, inplace=True)\n",
    "df_2016.head()"
   ]
  },
  {
   "cell_type": "code",
   "execution_count": 10,
   "metadata": {},
   "outputs": [],
   "source": [
    "# df_2017.columns"
   ]
  },
  {
   "cell_type": "code",
   "execution_count": 11,
   "metadata": {},
   "outputs": [
    {
     "data": {
      "text/html": [
       "<div>\n",
       "<style scoped>\n",
       "    .dataframe tbody tr th:only-of-type {\n",
       "        vertical-align: middle;\n",
       "    }\n",
       "\n",
       "    .dataframe tbody tr th {\n",
       "        vertical-align: top;\n",
       "    }\n",
       "\n",
       "    .dataframe thead th {\n",
       "        text-align: right;\n",
       "    }\n",
       "</style>\n",
       "<table border=\"1\" class=\"dataframe\">\n",
       "  <thead>\n",
       "    <tr style=\"text-align: right;\">\n",
       "      <th></th>\n",
       "      <th>Country</th>\n",
       "      <th>Happiness Rank</th>\n",
       "      <th>Happiness Score</th>\n",
       "      <th>Corruption</th>\n",
       "    </tr>\n",
       "  </thead>\n",
       "  <tbody>\n",
       "    <tr>\n",
       "      <th>0</th>\n",
       "      <td>Norway</td>\n",
       "      <td>1</td>\n",
       "      <td>7.537</td>\n",
       "      <td>0.315964</td>\n",
       "    </tr>\n",
       "    <tr>\n",
       "      <th>1</th>\n",
       "      <td>Denmark</td>\n",
       "      <td>2</td>\n",
       "      <td>7.522</td>\n",
       "      <td>0.400770</td>\n",
       "    </tr>\n",
       "    <tr>\n",
       "      <th>2</th>\n",
       "      <td>Iceland</td>\n",
       "      <td>3</td>\n",
       "      <td>7.504</td>\n",
       "      <td>0.153527</td>\n",
       "    </tr>\n",
       "    <tr>\n",
       "      <th>3</th>\n",
       "      <td>Switzerland</td>\n",
       "      <td>4</td>\n",
       "      <td>7.494</td>\n",
       "      <td>0.367007</td>\n",
       "    </tr>\n",
       "    <tr>\n",
       "      <th>4</th>\n",
       "      <td>Finland</td>\n",
       "      <td>5</td>\n",
       "      <td>7.469</td>\n",
       "      <td>0.382612</td>\n",
       "    </tr>\n",
       "  </tbody>\n",
       "</table>\n",
       "</div>"
      ],
      "text/plain": [
       "       Country  Happiness Rank  Happiness Score  Corruption\n",
       "0       Norway               1            7.537    0.315964\n",
       "1      Denmark               2            7.522    0.400770\n",
       "2      Iceland               3            7.504    0.153527\n",
       "3  Switzerland               4            7.494    0.367007\n",
       "4      Finland               5            7.469    0.382612"
      ]
     },
     "execution_count": 11,
     "metadata": {},
     "output_type": "execute_result"
    }
   ],
   "source": [
    "df_2017 = df_2017[['Country', 'Happiness.Rank', 'Happiness.Score', 'Trust..Government.Corruption.']]\n",
    "df_2017.rename(columns={'Happiness.Rank':'Happiness Rank', 'Happiness.Score': 'Happiness Score',\n",
    "                         'Trust..Government.Corruption.': 'Corruption'}, inplace=True)\n",
    "df_2017.head()"
   ]
  },
  {
   "cell_type": "code",
   "execution_count": 12,
   "metadata": {},
   "outputs": [],
   "source": [
    "# df_2018.columns"
   ]
  },
  {
   "cell_type": "code",
   "execution_count": 13,
   "metadata": {},
   "outputs": [],
   "source": [
    "# df_2018.head()"
   ]
  },
  {
   "cell_type": "code",
   "execution_count": 14,
   "metadata": {},
   "outputs": [
    {
     "data": {
      "text/html": [
       "<div>\n",
       "<style scoped>\n",
       "    .dataframe tbody tr th:only-of-type {\n",
       "        vertical-align: middle;\n",
       "    }\n",
       "\n",
       "    .dataframe tbody tr th {\n",
       "        vertical-align: top;\n",
       "    }\n",
       "\n",
       "    .dataframe thead th {\n",
       "        text-align: right;\n",
       "    }\n",
       "</style>\n",
       "<table border=\"1\" class=\"dataframe\">\n",
       "  <thead>\n",
       "    <tr style=\"text-align: right;\">\n",
       "      <th></th>\n",
       "      <th>Country</th>\n",
       "      <th>Happiness Rank</th>\n",
       "      <th>Happiness Score</th>\n",
       "      <th>Corruption</th>\n",
       "    </tr>\n",
       "  </thead>\n",
       "  <tbody>\n",
       "    <tr>\n",
       "      <th>0</th>\n",
       "      <td>Finland</td>\n",
       "      <td>1</td>\n",
       "      <td>7.632</td>\n",
       "      <td>0.393</td>\n",
       "    </tr>\n",
       "    <tr>\n",
       "      <th>1</th>\n",
       "      <td>Norway</td>\n",
       "      <td>2</td>\n",
       "      <td>7.594</td>\n",
       "      <td>0.340</td>\n",
       "    </tr>\n",
       "    <tr>\n",
       "      <th>2</th>\n",
       "      <td>Denmark</td>\n",
       "      <td>3</td>\n",
       "      <td>7.555</td>\n",
       "      <td>0.408</td>\n",
       "    </tr>\n",
       "    <tr>\n",
       "      <th>3</th>\n",
       "      <td>Iceland</td>\n",
       "      <td>4</td>\n",
       "      <td>7.495</td>\n",
       "      <td>0.138</td>\n",
       "    </tr>\n",
       "    <tr>\n",
       "      <th>4</th>\n",
       "      <td>Switzerland</td>\n",
       "      <td>5</td>\n",
       "      <td>7.487</td>\n",
       "      <td>0.357</td>\n",
       "    </tr>\n",
       "  </tbody>\n",
       "</table>\n",
       "</div>"
      ],
      "text/plain": [
       "       Country  Happiness Rank  Happiness Score  Corruption\n",
       "0      Finland               1            7.632       0.393\n",
       "1       Norway               2            7.594       0.340\n",
       "2      Denmark               3            7.555       0.408\n",
       "3      Iceland               4            7.495       0.138\n",
       "4  Switzerland               5            7.487       0.357"
      ]
     },
     "execution_count": 14,
     "metadata": {},
     "output_type": "execute_result"
    }
   ],
   "source": [
    "df_2018 = df_2018[['Country or region', 'Overall rank', 'Score', 'Perceptions of corruption']]\n",
    "df_2018.rename(columns={'Country or region': 'Country', 'Overall rank':'Happiness Rank', 'Score': 'Happiness Score',\n",
    "                        'Perceptions of corruption': 'Corruption'}, inplace=True)\n",
    "df_2018.head()"
   ]
  },
  {
   "cell_type": "code",
   "execution_count": 15,
   "metadata": {},
   "outputs": [],
   "source": [
    "# df_2019.columns"
   ]
  },
  {
   "cell_type": "code",
   "execution_count": 16,
   "metadata": {},
   "outputs": [
    {
     "data": {
      "text/html": [
       "<div>\n",
       "<style scoped>\n",
       "    .dataframe tbody tr th:only-of-type {\n",
       "        vertical-align: middle;\n",
       "    }\n",
       "\n",
       "    .dataframe tbody tr th {\n",
       "        vertical-align: top;\n",
       "    }\n",
       "\n",
       "    .dataframe thead th {\n",
       "        text-align: right;\n",
       "    }\n",
       "</style>\n",
       "<table border=\"1\" class=\"dataframe\">\n",
       "  <thead>\n",
       "    <tr style=\"text-align: right;\">\n",
       "      <th></th>\n",
       "      <th>Country</th>\n",
       "      <th>Happiness Rank</th>\n",
       "      <th>Happiness Score</th>\n",
       "      <th>Corruption</th>\n",
       "    </tr>\n",
       "  </thead>\n",
       "  <tbody>\n",
       "    <tr>\n",
       "      <th>0</th>\n",
       "      <td>Finland</td>\n",
       "      <td>1</td>\n",
       "      <td>7.769</td>\n",
       "      <td>0.393</td>\n",
       "    </tr>\n",
       "    <tr>\n",
       "      <th>1</th>\n",
       "      <td>Denmark</td>\n",
       "      <td>2</td>\n",
       "      <td>7.600</td>\n",
       "      <td>0.410</td>\n",
       "    </tr>\n",
       "    <tr>\n",
       "      <th>2</th>\n",
       "      <td>Norway</td>\n",
       "      <td>3</td>\n",
       "      <td>7.554</td>\n",
       "      <td>0.341</td>\n",
       "    </tr>\n",
       "    <tr>\n",
       "      <th>3</th>\n",
       "      <td>Iceland</td>\n",
       "      <td>4</td>\n",
       "      <td>7.494</td>\n",
       "      <td>0.118</td>\n",
       "    </tr>\n",
       "    <tr>\n",
       "      <th>4</th>\n",
       "      <td>Netherlands</td>\n",
       "      <td>5</td>\n",
       "      <td>7.488</td>\n",
       "      <td>0.298</td>\n",
       "    </tr>\n",
       "  </tbody>\n",
       "</table>\n",
       "</div>"
      ],
      "text/plain": [
       "       Country  Happiness Rank  Happiness Score  Corruption\n",
       "0      Finland               1            7.769       0.393\n",
       "1      Denmark               2            7.600       0.410\n",
       "2       Norway               3            7.554       0.341\n",
       "3      Iceland               4            7.494       0.118\n",
       "4  Netherlands               5            7.488       0.298"
      ]
     },
     "execution_count": 16,
     "metadata": {},
     "output_type": "execute_result"
    }
   ],
   "source": [
    "df_2019 = df_2019[['Country or region', 'Overall rank', 'Score', 'Perceptions of corruption']]\n",
    "df_2019.rename(columns={'Country or region': 'Country', 'Overall rank':'Happiness Rank', 'Score': 'Happiness Score',\n",
    "                        'Perceptions of corruption':'Corruption'}, inplace=True)\n",
    "df_2019.head()"
   ]
  },
  {
   "cell_type": "code",
   "execution_count": 17,
   "metadata": {},
   "outputs": [],
   "source": [
    "# df_2020.columns"
   ]
  },
  {
   "cell_type": "code",
   "execution_count": 18,
   "metadata": {},
   "outputs": [],
   "source": [
    "# df_2020.head()"
   ]
  },
  {
   "cell_type": "code",
   "execution_count": 19,
   "metadata": {},
   "outputs": [
    {
     "data": {
      "text/html": [
       "<div>\n",
       "<style scoped>\n",
       "    .dataframe tbody tr th:only-of-type {\n",
       "        vertical-align: middle;\n",
       "    }\n",
       "\n",
       "    .dataframe tbody tr th {\n",
       "        vertical-align: top;\n",
       "    }\n",
       "\n",
       "    .dataframe thead th {\n",
       "        text-align: right;\n",
       "    }\n",
       "</style>\n",
       "<table border=\"1\" class=\"dataframe\">\n",
       "  <thead>\n",
       "    <tr style=\"text-align: right;\">\n",
       "      <th></th>\n",
       "      <th>Country</th>\n",
       "      <th>Happiness Score</th>\n",
       "      <th>Corruption</th>\n",
       "    </tr>\n",
       "  </thead>\n",
       "  <tbody>\n",
       "    <tr>\n",
       "      <th>0</th>\n",
       "      <td>Finland</td>\n",
       "      <td>7.8087</td>\n",
       "      <td>0.195445</td>\n",
       "    </tr>\n",
       "    <tr>\n",
       "      <th>1</th>\n",
       "      <td>Denmark</td>\n",
       "      <td>7.6456</td>\n",
       "      <td>0.168489</td>\n",
       "    </tr>\n",
       "    <tr>\n",
       "      <th>2</th>\n",
       "      <td>Switzerland</td>\n",
       "      <td>7.5599</td>\n",
       "      <td>0.303728</td>\n",
       "    </tr>\n",
       "    <tr>\n",
       "      <th>3</th>\n",
       "      <td>Iceland</td>\n",
       "      <td>7.5045</td>\n",
       "      <td>0.711710</td>\n",
       "    </tr>\n",
       "    <tr>\n",
       "      <th>4</th>\n",
       "      <td>Norway</td>\n",
       "      <td>7.4880</td>\n",
       "      <td>0.263218</td>\n",
       "    </tr>\n",
       "  </tbody>\n",
       "</table>\n",
       "</div>"
      ],
      "text/plain": [
       "       Country  Happiness Score  Corruption\n",
       "0      Finland           7.8087    0.195445\n",
       "1      Denmark           7.6456    0.168489\n",
       "2  Switzerland           7.5599    0.303728\n",
       "3      Iceland           7.5045    0.711710\n",
       "4       Norway           7.4880    0.263218"
      ]
     },
     "execution_count": 19,
     "metadata": {},
     "output_type": "execute_result"
    }
   ],
   "source": [
    "df_2020 = df_2020[['Country name', 'Ladder score','Perceptions of corruption']]\n",
    "df_2020.rename(columns={'Country name': 'Country', 'Ladder score': 'Happiness Score',\n",
    "                        'Perceptions of corruption':'Corruption'}, inplace=True)\n",
    "df_2020.head()"
   ]
  },
  {
   "cell_type": "code",
   "execution_count": 20,
   "metadata": {},
   "outputs": [
    {
     "data": {
      "text/html": [
       "<div>\n",
       "<style scoped>\n",
       "    .dataframe tbody tr th:only-of-type {\n",
       "        vertical-align: middle;\n",
       "    }\n",
       "\n",
       "    .dataframe tbody tr th {\n",
       "        vertical-align: top;\n",
       "    }\n",
       "\n",
       "    .dataframe thead th {\n",
       "        text-align: right;\n",
       "    }\n",
       "</style>\n",
       "<table border=\"1\" class=\"dataframe\">\n",
       "  <thead>\n",
       "    <tr style=\"text-align: right;\">\n",
       "      <th></th>\n",
       "      <th>Country</th>\n",
       "      <th>Happiness Score</th>\n",
       "      <th>Corruption</th>\n",
       "      <th>Happiness Rank</th>\n",
       "    </tr>\n",
       "  </thead>\n",
       "  <tbody>\n",
       "    <tr>\n",
       "      <th>0</th>\n",
       "      <td>Finland</td>\n",
       "      <td>7.8087</td>\n",
       "      <td>0.195445</td>\n",
       "      <td>1</td>\n",
       "    </tr>\n",
       "    <tr>\n",
       "      <th>1</th>\n",
       "      <td>Denmark</td>\n",
       "      <td>7.6456</td>\n",
       "      <td>0.168489</td>\n",
       "      <td>2</td>\n",
       "    </tr>\n",
       "    <tr>\n",
       "      <th>2</th>\n",
       "      <td>Switzerland</td>\n",
       "      <td>7.5599</td>\n",
       "      <td>0.303728</td>\n",
       "      <td>3</td>\n",
       "    </tr>\n",
       "    <tr>\n",
       "      <th>3</th>\n",
       "      <td>Iceland</td>\n",
       "      <td>7.5045</td>\n",
       "      <td>0.711710</td>\n",
       "      <td>4</td>\n",
       "    </tr>\n",
       "    <tr>\n",
       "      <th>4</th>\n",
       "      <td>Norway</td>\n",
       "      <td>7.4880</td>\n",
       "      <td>0.263218</td>\n",
       "      <td>5</td>\n",
       "    </tr>\n",
       "  </tbody>\n",
       "</table>\n",
       "</div>"
      ],
      "text/plain": [
       "       Country  Happiness Score  Corruption  Happiness Rank\n",
       "0      Finland           7.8087    0.195445               1\n",
       "1      Denmark           7.6456    0.168489               2\n",
       "2  Switzerland           7.5599    0.303728               3\n",
       "3      Iceland           7.5045    0.711710               4\n",
       "4       Norway           7.4880    0.263218               5"
      ]
     },
     "execution_count": 20,
     "metadata": {},
     "output_type": "execute_result"
    }
   ],
   "source": [
    "df_2020['Happiness Rank'] = df_2020['Happiness Score'].rank(ascending=False).astype(int)\n",
    "df_2020.head()"
   ]
  },
  {
   "cell_type": "code",
   "execution_count": 21,
   "metadata": {},
   "outputs": [],
   "source": [
    "# df_2021.columns"
   ]
  },
  {
   "cell_type": "code",
   "execution_count": 22,
   "metadata": {},
   "outputs": [],
   "source": [
    "# df_2021.head()"
   ]
  },
  {
   "cell_type": "code",
   "execution_count": 23,
   "metadata": {},
   "outputs": [
    {
     "data": {
      "text/html": [
       "<div>\n",
       "<style scoped>\n",
       "    .dataframe tbody tr th:only-of-type {\n",
       "        vertical-align: middle;\n",
       "    }\n",
       "\n",
       "    .dataframe tbody tr th {\n",
       "        vertical-align: top;\n",
       "    }\n",
       "\n",
       "    .dataframe thead th {\n",
       "        text-align: right;\n",
       "    }\n",
       "</style>\n",
       "<table border=\"1\" class=\"dataframe\">\n",
       "  <thead>\n",
       "    <tr style=\"text-align: right;\">\n",
       "      <th></th>\n",
       "      <th>Country</th>\n",
       "      <th>Happiness Score</th>\n",
       "      <th>Corruption</th>\n",
       "    </tr>\n",
       "  </thead>\n",
       "  <tbody>\n",
       "    <tr>\n",
       "      <th>0</th>\n",
       "      <td>Finland</td>\n",
       "      <td>7.842</td>\n",
       "      <td>0.186</td>\n",
       "    </tr>\n",
       "    <tr>\n",
       "      <th>1</th>\n",
       "      <td>Denmark</td>\n",
       "      <td>7.620</td>\n",
       "      <td>0.179</td>\n",
       "    </tr>\n",
       "    <tr>\n",
       "      <th>2</th>\n",
       "      <td>Switzerland</td>\n",
       "      <td>7.571</td>\n",
       "      <td>0.292</td>\n",
       "    </tr>\n",
       "    <tr>\n",
       "      <th>3</th>\n",
       "      <td>Iceland</td>\n",
       "      <td>7.554</td>\n",
       "      <td>0.673</td>\n",
       "    </tr>\n",
       "    <tr>\n",
       "      <th>4</th>\n",
       "      <td>Netherlands</td>\n",
       "      <td>7.464</td>\n",
       "      <td>0.338</td>\n",
       "    </tr>\n",
       "  </tbody>\n",
       "</table>\n",
       "</div>"
      ],
      "text/plain": [
       "       Country  Happiness Score  Corruption\n",
       "0      Finland            7.842       0.186\n",
       "1      Denmark            7.620       0.179\n",
       "2  Switzerland            7.571       0.292\n",
       "3      Iceland            7.554       0.673\n",
       "4  Netherlands            7.464       0.338"
      ]
     },
     "execution_count": 23,
     "metadata": {},
     "output_type": "execute_result"
    }
   ],
   "source": [
    "df_2021 = df_2021[['Country name', 'Ladder score','Perceptions of corruption']]\n",
    "df_2021.rename(columns={'Country name': 'Country', 'Ladder score': 'Happiness Score',\n",
    "                        'Perceptions of corruption': 'Corruption'}, inplace=True)\n",
    "df_2021.head()"
   ]
  },
  {
   "cell_type": "code",
   "execution_count": 24,
   "metadata": {},
   "outputs": [
    {
     "data": {
      "text/html": [
       "<div>\n",
       "<style scoped>\n",
       "    .dataframe tbody tr th:only-of-type {\n",
       "        vertical-align: middle;\n",
       "    }\n",
       "\n",
       "    .dataframe tbody tr th {\n",
       "        vertical-align: top;\n",
       "    }\n",
       "\n",
       "    .dataframe thead th {\n",
       "        text-align: right;\n",
       "    }\n",
       "</style>\n",
       "<table border=\"1\" class=\"dataframe\">\n",
       "  <thead>\n",
       "    <tr style=\"text-align: right;\">\n",
       "      <th></th>\n",
       "      <th>Country</th>\n",
       "      <th>Happiness Score</th>\n",
       "      <th>Corruption</th>\n",
       "      <th>Happiness Rank</th>\n",
       "    </tr>\n",
       "  </thead>\n",
       "  <tbody>\n",
       "    <tr>\n",
       "      <th>0</th>\n",
       "      <td>Finland</td>\n",
       "      <td>7.842</td>\n",
       "      <td>0.186</td>\n",
       "      <td>1</td>\n",
       "    </tr>\n",
       "    <tr>\n",
       "      <th>1</th>\n",
       "      <td>Denmark</td>\n",
       "      <td>7.620</td>\n",
       "      <td>0.179</td>\n",
       "      <td>2</td>\n",
       "    </tr>\n",
       "    <tr>\n",
       "      <th>2</th>\n",
       "      <td>Switzerland</td>\n",
       "      <td>7.571</td>\n",
       "      <td>0.292</td>\n",
       "      <td>3</td>\n",
       "    </tr>\n",
       "    <tr>\n",
       "      <th>3</th>\n",
       "      <td>Iceland</td>\n",
       "      <td>7.554</td>\n",
       "      <td>0.673</td>\n",
       "      <td>4</td>\n",
       "    </tr>\n",
       "    <tr>\n",
       "      <th>4</th>\n",
       "      <td>Netherlands</td>\n",
       "      <td>7.464</td>\n",
       "      <td>0.338</td>\n",
       "      <td>5</td>\n",
       "    </tr>\n",
       "  </tbody>\n",
       "</table>\n",
       "</div>"
      ],
      "text/plain": [
       "       Country  Happiness Score  Corruption  Happiness Rank\n",
       "0      Finland            7.842       0.186               1\n",
       "1      Denmark            7.620       0.179               2\n",
       "2  Switzerland            7.571       0.292               3\n",
       "3      Iceland            7.554       0.673               4\n",
       "4  Netherlands            7.464       0.338               5"
      ]
     },
     "execution_count": 24,
     "metadata": {},
     "output_type": "execute_result"
    }
   ],
   "source": [
    "df_2021['Happiness Rank'] = df_2021['Happiness Score'].rank(ascending=False).astype(int)\n",
    "df_2021.head()"
   ]
  },
  {
   "cell_type": "code",
   "execution_count": 25,
   "metadata": {},
   "outputs": [
    {
     "data": {
      "text/plain": [
       "Country            0\n",
       "Happiness Rank     0\n",
       "Happiness Score    0\n",
       "Corruption         0\n",
       "dtype: int64"
      ]
     },
     "execution_count": 25,
     "metadata": {},
     "output_type": "execute_result"
    }
   ],
   "source": [
    "df_2015.isnull().sum()"
   ]
  },
  {
   "cell_type": "code",
   "execution_count": 26,
   "metadata": {},
   "outputs": [
    {
     "data": {
      "text/plain": [
       "Country            0\n",
       "Happiness Rank     0\n",
       "Happiness Score    0\n",
       "Corruption         0\n",
       "dtype: int64"
      ]
     },
     "execution_count": 26,
     "metadata": {},
     "output_type": "execute_result"
    }
   ],
   "source": [
    "df_2016.isnull().sum()"
   ]
  },
  {
   "cell_type": "code",
   "execution_count": 27,
   "metadata": {},
   "outputs": [
    {
     "data": {
      "text/plain": [
       "Country            0\n",
       "Happiness Rank     0\n",
       "Happiness Score    0\n",
       "Corruption         0\n",
       "dtype: int64"
      ]
     },
     "execution_count": 27,
     "metadata": {},
     "output_type": "execute_result"
    }
   ],
   "source": [
    "df_2017.isnull().sum()"
   ]
  },
  {
   "cell_type": "code",
   "execution_count": 28,
   "metadata": {},
   "outputs": [
    {
     "data": {
      "text/plain": [
       "Country            0\n",
       "Happiness Rank     0\n",
       "Happiness Score    0\n",
       "Corruption         1\n",
       "dtype: int64"
      ]
     },
     "execution_count": 28,
     "metadata": {},
     "output_type": "execute_result"
    }
   ],
   "source": [
    "df_2018.isnull().sum()"
   ]
  },
  {
   "cell_type": "code",
   "execution_count": 29,
   "metadata": {},
   "outputs": [
    {
     "data": {
      "text/plain": [
       "Country            0\n",
       "Happiness Rank     0\n",
       "Happiness Score    0\n",
       "Corruption         0\n",
       "dtype: int64"
      ]
     },
     "execution_count": 29,
     "metadata": {},
     "output_type": "execute_result"
    }
   ],
   "source": [
    "df_2019.isnull().sum()"
   ]
  },
  {
   "cell_type": "code",
   "execution_count": 30,
   "metadata": {},
   "outputs": [
    {
     "data": {
      "text/plain": [
       "Country            0\n",
       "Happiness Score    0\n",
       "Corruption         0\n",
       "Happiness Rank     0\n",
       "dtype: int64"
      ]
     },
     "execution_count": 30,
     "metadata": {},
     "output_type": "execute_result"
    }
   ],
   "source": [
    "df_2020.isnull().sum()"
   ]
  },
  {
   "cell_type": "code",
   "execution_count": 31,
   "metadata": {},
   "outputs": [
    {
     "data": {
      "text/plain": [
       "Country            0\n",
       "Happiness Score    0\n",
       "Corruption         0\n",
       "Happiness Rank     0\n",
       "dtype: int64"
      ]
     },
     "execution_count": 31,
     "metadata": {},
     "output_type": "execute_result"
    }
   ],
   "source": [
    "df_2021.isnull().sum()"
   ]
  },
  {
   "attachments": {},
   "cell_type": "markdown",
   "metadata": {},
   "source": [
    "# Human Development Index (HDI)"
   ]
  },
  {
   "cell_type": "code",
   "execution_count": 32,
   "metadata": {},
   "outputs": [
    {
     "data": {
      "text/html": [
       "<div>\n",
       "<style scoped>\n",
       "    .dataframe tbody tr th:only-of-type {\n",
       "        vertical-align: middle;\n",
       "    }\n",
       "\n",
       "    .dataframe tbody tr th {\n",
       "        vertical-align: top;\n",
       "    }\n",
       "\n",
       "    .dataframe thead th {\n",
       "        text-align: right;\n",
       "    }\n",
       "</style>\n",
       "<table border=\"1\" class=\"dataframe\">\n",
       "  <thead>\n",
       "    <tr style=\"text-align: right;\">\n",
       "      <th></th>\n",
       "      <th>ISO3</th>\n",
       "      <th>Country</th>\n",
       "      <th>Human Development Groups</th>\n",
       "      <th>UNDP Developing Regions</th>\n",
       "      <th>HDI Rank (2021)</th>\n",
       "      <th>Human Development Index (1990)</th>\n",
       "      <th>Human Development Index (1991)</th>\n",
       "      <th>Human Development Index (1992)</th>\n",
       "      <th>Human Development Index (1993)</th>\n",
       "      <th>Human Development Index (1994)</th>\n",
       "      <th>...</th>\n",
       "      <th>Material footprint per capita (tonnes) (2012)</th>\n",
       "      <th>Material footprint per capita (tonnes) (2013)</th>\n",
       "      <th>Material footprint per capita (tonnes) (2014)</th>\n",
       "      <th>Material footprint per capita (tonnes) (2015)</th>\n",
       "      <th>Material footprint per capita (tonnes) (2016)</th>\n",
       "      <th>Material footprint per capita (tonnes) (2017)</th>\n",
       "      <th>Material footprint per capita (tonnes) (2018)</th>\n",
       "      <th>Material footprint per capita (tonnes) (2019)</th>\n",
       "      <th>Material footprint per capita (tonnes) (2020)</th>\n",
       "      <th>Material footprint per capita (tonnes) (2021)</th>\n",
       "    </tr>\n",
       "  </thead>\n",
       "  <tbody>\n",
       "    <tr>\n",
       "      <th>0</th>\n",
       "      <td>AFG</td>\n",
       "      <td>Afghanistan</td>\n",
       "      <td>Low</td>\n",
       "      <td>SA</td>\n",
       "      <td>180.0</td>\n",
       "      <td>0.273</td>\n",
       "      <td>0.279</td>\n",
       "      <td>0.287</td>\n",
       "      <td>0.297</td>\n",
       "      <td>0.292</td>\n",
       "      <td>...</td>\n",
       "      <td>1.86</td>\n",
       "      <td>1.88</td>\n",
       "      <td>1.66</td>\n",
       "      <td>1.62</td>\n",
       "      <td>1.66</td>\n",
       "      <td>1.41</td>\n",
       "      <td>1.32</td>\n",
       "      <td>1.38</td>\n",
       "      <td>1.38</td>\n",
       "      <td>1.38</td>\n",
       "    </tr>\n",
       "    <tr>\n",
       "      <th>1</th>\n",
       "      <td>AGO</td>\n",
       "      <td>Angola</td>\n",
       "      <td>Medium</td>\n",
       "      <td>SSA</td>\n",
       "      <td>148.0</td>\n",
       "      <td>NaN</td>\n",
       "      <td>NaN</td>\n",
       "      <td>NaN</td>\n",
       "      <td>NaN</td>\n",
       "      <td>NaN</td>\n",
       "      <td>...</td>\n",
       "      <td>4.09</td>\n",
       "      <td>4.53</td>\n",
       "      <td>3.97</td>\n",
       "      <td>3.59</td>\n",
       "      <td>2.79</td>\n",
       "      <td>2.64</td>\n",
       "      <td>2.28</td>\n",
       "      <td>2.18</td>\n",
       "      <td>2.18</td>\n",
       "      <td>2.18</td>\n",
       "    </tr>\n",
       "    <tr>\n",
       "      <th>2</th>\n",
       "      <td>ALB</td>\n",
       "      <td>Albania</td>\n",
       "      <td>High</td>\n",
       "      <td>ECA</td>\n",
       "      <td>67.0</td>\n",
       "      <td>0.647</td>\n",
       "      <td>0.629</td>\n",
       "      <td>0.614</td>\n",
       "      <td>0.617</td>\n",
       "      <td>0.624</td>\n",
       "      <td>...</td>\n",
       "      <td>12.44</td>\n",
       "      <td>11.49</td>\n",
       "      <td>13.14</td>\n",
       "      <td>12.61</td>\n",
       "      <td>14.39</td>\n",
       "      <td>14.46</td>\n",
       "      <td>12.85</td>\n",
       "      <td>12.96</td>\n",
       "      <td>12.96</td>\n",
       "      <td>12.96</td>\n",
       "    </tr>\n",
       "    <tr>\n",
       "      <th>3</th>\n",
       "      <td>AND</td>\n",
       "      <td>Andorra</td>\n",
       "      <td>Very High</td>\n",
       "      <td>NaN</td>\n",
       "      <td>40.0</td>\n",
       "      <td>NaN</td>\n",
       "      <td>NaN</td>\n",
       "      <td>NaN</td>\n",
       "      <td>NaN</td>\n",
       "      <td>NaN</td>\n",
       "      <td>...</td>\n",
       "      <td>NaN</td>\n",
       "      <td>NaN</td>\n",
       "      <td>NaN</td>\n",
       "      <td>NaN</td>\n",
       "      <td>NaN</td>\n",
       "      <td>NaN</td>\n",
       "      <td>NaN</td>\n",
       "      <td>NaN</td>\n",
       "      <td>NaN</td>\n",
       "      <td>NaN</td>\n",
       "    </tr>\n",
       "    <tr>\n",
       "      <th>4</th>\n",
       "      <td>ARE</td>\n",
       "      <td>United Arab Emirates</td>\n",
       "      <td>Very High</td>\n",
       "      <td>AS</td>\n",
       "      <td>26.0</td>\n",
       "      <td>0.728</td>\n",
       "      <td>0.739</td>\n",
       "      <td>0.742</td>\n",
       "      <td>0.748</td>\n",
       "      <td>0.755</td>\n",
       "      <td>...</td>\n",
       "      <td>49.56</td>\n",
       "      <td>49.68</td>\n",
       "      <td>55.49</td>\n",
       "      <td>59.76</td>\n",
       "      <td>64.95</td>\n",
       "      <td>75.61</td>\n",
       "      <td>65.97</td>\n",
       "      <td>68.95</td>\n",
       "      <td>68.95</td>\n",
       "      <td>68.95</td>\n",
       "    </tr>\n",
       "  </tbody>\n",
       "</table>\n",
       "<p>5 rows × 880 columns</p>\n",
       "</div>"
      ],
      "text/plain": [
       "  ISO3               Country Human Development Groups UNDP Developing Regions  \\\n",
       "0  AFG           Afghanistan                      Low                      SA   \n",
       "1  AGO                Angola                   Medium                     SSA   \n",
       "2  ALB               Albania                     High                     ECA   \n",
       "3  AND               Andorra                Very High                     NaN   \n",
       "4  ARE  United Arab Emirates                Very High                      AS   \n",
       "\n",
       "   HDI Rank (2021)  Human Development Index (1990)  \\\n",
       "0            180.0                           0.273   \n",
       "1            148.0                             NaN   \n",
       "2             67.0                           0.647   \n",
       "3             40.0                             NaN   \n",
       "4             26.0                           0.728   \n",
       "\n",
       "   Human Development Index (1991)  Human Development Index (1992)  \\\n",
       "0                           0.279                           0.287   \n",
       "1                             NaN                             NaN   \n",
       "2                           0.629                           0.614   \n",
       "3                             NaN                             NaN   \n",
       "4                           0.739                           0.742   \n",
       "\n",
       "   Human Development Index (1993)  Human Development Index (1994)  ...  \\\n",
       "0                           0.297                           0.292  ...   \n",
       "1                             NaN                             NaN  ...   \n",
       "2                           0.617                           0.624  ...   \n",
       "3                             NaN                             NaN  ...   \n",
       "4                           0.748                           0.755  ...   \n",
       "\n",
       "   Material footprint per capita (tonnes) (2012)  \\\n",
       "0                                           1.86   \n",
       "1                                           4.09   \n",
       "2                                          12.44   \n",
       "3                                            NaN   \n",
       "4                                          49.56   \n",
       "\n",
       "   Material footprint per capita (tonnes) (2013)  \\\n",
       "0                                           1.88   \n",
       "1                                           4.53   \n",
       "2                                          11.49   \n",
       "3                                            NaN   \n",
       "4                                          49.68   \n",
       "\n",
       "   Material footprint per capita (tonnes) (2014)  \\\n",
       "0                                           1.66   \n",
       "1                                           3.97   \n",
       "2                                          13.14   \n",
       "3                                            NaN   \n",
       "4                                          55.49   \n",
       "\n",
       "   Material footprint per capita (tonnes) (2015)  \\\n",
       "0                                           1.62   \n",
       "1                                           3.59   \n",
       "2                                          12.61   \n",
       "3                                            NaN   \n",
       "4                                          59.76   \n",
       "\n",
       "   Material footprint per capita (tonnes) (2016)  \\\n",
       "0                                           1.66   \n",
       "1                                           2.79   \n",
       "2                                          14.39   \n",
       "3                                            NaN   \n",
       "4                                          64.95   \n",
       "\n",
       "   Material footprint per capita (tonnes) (2017)  \\\n",
       "0                                           1.41   \n",
       "1                                           2.64   \n",
       "2                                          14.46   \n",
       "3                                            NaN   \n",
       "4                                          75.61   \n",
       "\n",
       "   Material footprint per capita (tonnes) (2018)  \\\n",
       "0                                           1.32   \n",
       "1                                           2.28   \n",
       "2                                          12.85   \n",
       "3                                            NaN   \n",
       "4                                          65.97   \n",
       "\n",
       "   Material footprint per capita (tonnes) (2019)  \\\n",
       "0                                           1.38   \n",
       "1                                           2.18   \n",
       "2                                          12.96   \n",
       "3                                            NaN   \n",
       "4                                          68.95   \n",
       "\n",
       "   Material footprint per capita (tonnes) (2020)  \\\n",
       "0                                           1.38   \n",
       "1                                           2.18   \n",
       "2                                          12.96   \n",
       "3                                            NaN   \n",
       "4                                          68.95   \n",
       "\n",
       "   Material footprint per capita (tonnes) (2021)  \n",
       "0                                           1.38  \n",
       "1                                           2.18  \n",
       "2                                          12.96  \n",
       "3                                            NaN  \n",
       "4                                          68.95  \n",
       "\n",
       "[5 rows x 880 columns]"
      ]
     },
     "execution_count": 32,
     "metadata": {},
     "output_type": "execute_result"
    }
   ],
   "source": [
    "df_hdi.head()"
   ]
  },
  {
   "cell_type": "code",
   "execution_count": 33,
   "metadata": {},
   "outputs": [
    {
     "data": {
      "text/plain": [
       "(195, 880)"
      ]
     },
     "execution_count": 33,
     "metadata": {},
     "output_type": "execute_result"
    }
   ],
   "source": [
    "df_hdi.shape"
   ]
  },
  {
   "cell_type": "code",
   "execution_count": 34,
   "metadata": {},
   "outputs": [
    {
     "data": {
      "text/plain": [
       "Index(['ISO3', 'Country', 'Human Development Groups',\n",
       "       'UNDP Developing Regions', 'HDI Rank (2021)',\n",
       "       'Human Development Index (1990)', 'Human Development Index (1991)',\n",
       "       'Human Development Index (1992)', 'Human Development Index (1993)',\n",
       "       'Human Development Index (1994)',\n",
       "       ...\n",
       "       'Material footprint per capita (tonnes) (2012)',\n",
       "       'Material footprint per capita (tonnes) (2013)',\n",
       "       'Material footprint per capita (tonnes) (2014)',\n",
       "       'Material footprint per capita (tonnes) (2015)',\n",
       "       'Material footprint per capita (tonnes) (2016)',\n",
       "       'Material footprint per capita (tonnes) (2017)',\n",
       "       'Material footprint per capita (tonnes) (2018)',\n",
       "       'Material footprint per capita (tonnes) (2019)',\n",
       "       'Material footprint per capita (tonnes) (2020)',\n",
       "       'Material footprint per capita (tonnes) (2021)'],\n",
       "      dtype='object', length=880)"
      ]
     },
     "execution_count": 34,
     "metadata": {},
     "output_type": "execute_result"
    }
   ],
   "source": [
    "df_hdi.columns"
   ]
  },
  {
   "attachments": {},
   "cell_type": "markdown",
   "metadata": {},
   "source": [
    "## hdi 15"
   ]
  },
  {
   "cell_type": "code",
   "execution_count": 35,
   "metadata": {},
   "outputs": [],
   "source": [
    "# select colummns\n",
    "\n",
    "# hdi_columns_15 = ['Country', 'Human Development Groups','HDI Rank (2021)',\n",
    "#                'Human Development Index (2015)',\n",
    "#                 'Life Expectancy at Birth (2015)',\n",
    "#                 'Expected Years of Schooling (2015)',\n",
    "#                 'Mean Years of Schooling (2015)',\n",
    "#                 'Gross National Income Per Capita (2015)', \n",
    "#                 'Gender Development Index (2015)',\n",
    "#                 'Coefficient of human inequality (2015)',\n",
    "#                 'Inequality in life expectancy (2015)',\n",
    "#                 'Inequality in eduation (2015)',\n",
    "#                 'Inequality in income (2015)',\n",
    "#                 'Gender Inequality Index (2015)',\n",
    "#                 'Maternal Mortality Ratio (deaths per 100,000 live births) (2015)',\n",
    "#                 'Material footprint per capita (tonnes) (2015)', \n",
    "#                 'Carbon dioxide emissions per capita (production) (tonnes) (2015)', \n",
    "#                 ]"
   ]
  },
  {
   "cell_type": "code",
   "execution_count": 36,
   "metadata": {},
   "outputs": [],
   "source": [
    "\n",
    "# df_hdi_2015 = df_hdi[hdi_columns_15]\n",
    "# df_hdi_2015.rename(columns={\n",
    "#     'Human Development Index (2015)': 'Human Development Index',\n",
    "#     'Life Expectancy at Birth (2015)': 'Life Expectancy at Birth',\n",
    "#     'Expected Years of Schooling (2015)': 'Expected Years of Schooling',\n",
    "#     'Mean Years of Schooling (2015)': 'Mean Years of Schooling',\n",
    "#     'Gross National Income Per Capita (2015)': 'Gross National Income Per Capita', \n",
    "#     'Gender Development Index (2015)': 'Gender Development Index',\n",
    "#     'Coefficient of human inequality (2015)': 'Coefficient of human inequality',\n",
    "#     'Inequality in life expectancy (2015)': 'Inequality in life expectancy',\n",
    "#     'Inequality in eduation (2015)': 'Inequality in eduation',\n",
    "#     'Inequality in income (2015)': 'Inequality in income',\n",
    "#     'Gender Inequality Index (2015)': 'Gender Inequality Index',\n",
    "#     'Maternal Mortality Ratio (deaths per 100,000 live births) (2015)': 'Maternal Mortality Ratio (deaths per 100,000 live births)',\n",
    "#     'Material footprint per capita (tonnes) (2015)': 'Material footprint per capita (tonnes)', \n",
    "#     'Carbon dioxide emissions per capita (production) (tonnes) (2015)': 'Carbon dioxide emissions per capita (production) (tonnes)'\n",
    "#     },\n",
    "#                    inplace=True\n",
    "# )\n",
    "# df_hdi_2015.head()"
   ]
  },
  {
   "cell_type": "code",
   "execution_count": 37,
   "metadata": {},
   "outputs": [],
   "source": [
    "\n",
    "# df_15 = pd.merge(df_2015, df_hdi_2015, on=\"Country\", how = \"inner\")\n",
    "# df_15.head()\n"
   ]
  },
  {
   "cell_type": "code",
   "execution_count": 38,
   "metadata": {},
   "outputs": [],
   "source": [
    "\n",
    "# df_15['Year'] = 2015\n",
    "# df_15.head()"
   ]
  },
  {
   "attachments": {},
   "cell_type": "markdown",
   "metadata": {},
   "source": [
    "# extract_and_merge function"
   ]
  },
  {
   "cell_type": "code",
   "execution_count": 39,
   "metadata": {},
   "outputs": [],
   "source": [
    "\n",
    "def extract_and_merge(year):\n",
    "    \n",
    "    variables = {\n",
    "    2015: df_2015,\n",
    "    2016: df_2016,\n",
    "    2017: df_2017,\n",
    "    2018: df_2018,\n",
    "    2019: df_2019,\n",
    "    2020: df_2020,\n",
    "    2021: df_2021\n",
    "    }\n",
    "    \n",
    "    common_columns = ['Country', 'Human Development Groups', 'HDI Rank (2021)']\n",
    "\n",
    "    hdi_columns = [\n",
    "        'Human Development Index ({})'.format(year),\n",
    "        'Life Expectancy at Birth ({})'.format(year),\n",
    "        'Expected Years of Schooling ({})'.format(year),\n",
    "        'Mean Years of Schooling ({})'.format(year),\n",
    "        'Gross National Income Per Capita ({})'.format(year),\n",
    "        'Gender Development Index ({})'.format(year),\n",
    "        'Coefficient of human inequality ({})'.format(year),\n",
    "        'Inequality in life expectancy ({})'.format(year),\n",
    "        'Inequality in eduation ({})'.format(year),\n",
    "        'Inequality in income ({})'.format(year),\n",
    "        'Gender Inequality Index ({})'.format(year),\n",
    "        'Maternal Mortality Ratio (deaths per 100,000 live births) ({})'.format(year),\n",
    "        'Material footprint per capita (tonnes) ({})'.format(year),\n",
    "        'Carbon dioxide emissions per capita (production) (tonnes) ({})'.format(year)\n",
    "    ]\n",
    "    \n",
    "    rename_map= {\n",
    "    'Human Development Index ({})'.format(year): 'Human Development Index',\n",
    "    'Life Expectancy at Birth ({})'.format(year): 'Life Expectancy at Birth',\n",
    "    'Expected Years of Schooling ({})'.format(year): 'Expected Years of Schooling',\n",
    "    'Mean Years of Schooling ({})'.format(year): 'Mean Years of Schooling',\n",
    "    'Gross National Income Per Capita ({})'.format(year): 'Gross National Income Per Capita', \n",
    "    'Gender Development Index ({})'.format(year): 'Gender Development Index',\n",
    "    'Coefficient of human inequality ({})'.format(year): 'Coefficient of human inequality',\n",
    "    'Inequality in life expectancy ({})'.format(year): 'Inequality in life expectancy',\n",
    "    'Inequality in eduation ({})'.format(year): 'Inequality in eduation',\n",
    "    'Inequality in income ({})'.format(year): 'Inequality in income',\n",
    "    'Gender Inequality Index ({})'.format(year): 'Gender Inequality Index',\n",
    "    'Maternal Mortality Ratio (deaths per 100,000 live births) ({})'.format(year): 'Maternal Mortality Ratio (deaths per 100,000 live births)',\n",
    "    'Material footprint per capita (tonnes) ({})'.format(year): 'Material footprint per capita (tonnes)', \n",
    "    'Carbon dioxide emissions per capita (production) (tonnes) ({})'.format(year): 'Carbon dioxide emissions per capita (production) (tonnes)'\n",
    "    }\n",
    "    \n",
    "    hdi_columns_extracted = common_columns + hdi_columns\n",
    "    df_year = df_hdi[hdi_columns_extracted].copy()\n",
    "    \n",
    "    df_year.rename(columns=rename_map, inplace=True)\n",
    "\n",
    "    df_merge = pd.merge(variables.get(year), df_year, on='Country', how='inner')\n",
    "    df_merge['Year'] = year\n",
    "    \n",
    "    return df_merge"
   ]
  },
  {
   "cell_type": "code",
   "execution_count": 40,
   "metadata": {},
   "outputs": [],
   "source": [
    "df_15 = extract_and_merge(2015)"
   ]
  },
  {
   "cell_type": "code",
   "execution_count": 41,
   "metadata": {},
   "outputs": [],
   "source": [
    "df_16 = extract_and_merge(2016)"
   ]
  },
  {
   "cell_type": "code",
   "execution_count": 42,
   "metadata": {},
   "outputs": [],
   "source": [
    "df_17 = extract_and_merge(2017)"
   ]
  },
  {
   "cell_type": "code",
   "execution_count": 43,
   "metadata": {},
   "outputs": [],
   "source": [
    "df_18 = extract_and_merge(2018)"
   ]
  },
  {
   "cell_type": "code",
   "execution_count": 44,
   "metadata": {},
   "outputs": [],
   "source": [
    "df_19 = extract_and_merge(2019)"
   ]
  },
  {
   "cell_type": "code",
   "execution_count": 45,
   "metadata": {},
   "outputs": [],
   "source": [
    "df_20 = extract_and_merge(2020)"
   ]
  },
  {
   "cell_type": "code",
   "execution_count": 46,
   "metadata": {},
   "outputs": [],
   "source": [
    "df_21 = extract_and_merge(2021)"
   ]
  },
  {
   "cell_type": "code",
   "execution_count": 47,
   "metadata": {},
   "outputs": [
    {
     "data": {
      "text/html": [
       "<div>\n",
       "<style scoped>\n",
       "    .dataframe tbody tr th:only-of-type {\n",
       "        vertical-align: middle;\n",
       "    }\n",
       "\n",
       "    .dataframe tbody tr th {\n",
       "        vertical-align: top;\n",
       "    }\n",
       "\n",
       "    .dataframe thead th {\n",
       "        text-align: right;\n",
       "    }\n",
       "</style>\n",
       "<table border=\"1\" class=\"dataframe\">\n",
       "  <thead>\n",
       "    <tr style=\"text-align: right;\">\n",
       "      <th></th>\n",
       "      <th>Country</th>\n",
       "      <th>Happiness Rank</th>\n",
       "      <th>Happiness Score</th>\n",
       "      <th>Corruption</th>\n",
       "      <th>Human Development Groups</th>\n",
       "      <th>HDI Rank (2021)</th>\n",
       "      <th>Human Development Index</th>\n",
       "      <th>Life Expectancy at Birth</th>\n",
       "      <th>Expected Years of Schooling</th>\n",
       "      <th>Mean Years of Schooling</th>\n",
       "      <th>...</th>\n",
       "      <th>Gender Development Index</th>\n",
       "      <th>Coefficient of human inequality</th>\n",
       "      <th>Inequality in life expectancy</th>\n",
       "      <th>Inequality in eduation</th>\n",
       "      <th>Inequality in income</th>\n",
       "      <th>Gender Inequality Index</th>\n",
       "      <th>Maternal Mortality Ratio (deaths per 100,000 live births)</th>\n",
       "      <th>Material footprint per capita (tonnes)</th>\n",
       "      <th>Carbon dioxide emissions per capita (production) (tonnes)</th>\n",
       "      <th>Year</th>\n",
       "    </tr>\n",
       "  </thead>\n",
       "  <tbody>\n",
       "    <tr>\n",
       "      <th>0</th>\n",
       "      <td>Switzerland</td>\n",
       "      <td>1</td>\n",
       "      <td>7.587</td>\n",
       "      <td>0.41978</td>\n",
       "      <td>Very High</td>\n",
       "      <td>1.0</td>\n",
       "      <td>0.954</td>\n",
       "      <td>82.8468</td>\n",
       "      <td>16.194010</td>\n",
       "      <td>13.711880</td>\n",
       "      <td>...</td>\n",
       "      <td>0.970</td>\n",
       "      <td>6.080309</td>\n",
       "      <td>3.678839</td>\n",
       "      <td>2.366899</td>\n",
       "      <td>12.19519</td>\n",
       "      <td>0.039</td>\n",
       "      <td>5.0</td>\n",
       "      <td>33.83</td>\n",
       "      <td>4.668199</td>\n",
       "      <td>2015</td>\n",
       "    </tr>\n",
       "    <tr>\n",
       "      <th>1</th>\n",
       "      <td>Iceland</td>\n",
       "      <td>2</td>\n",
       "      <td>7.561</td>\n",
       "      <td>0.14145</td>\n",
       "      <td>Very High</td>\n",
       "      <td>3.0</td>\n",
       "      <td>0.945</td>\n",
       "      <td>82.3508</td>\n",
       "      <td>19.347700</td>\n",
       "      <td>13.184354</td>\n",
       "      <td>...</td>\n",
       "      <td>0.974</td>\n",
       "      <td>5.621693</td>\n",
       "      <td>2.638380</td>\n",
       "      <td>2.554160</td>\n",
       "      <td>11.67254</td>\n",
       "      <td>0.063</td>\n",
       "      <td>4.0</td>\n",
       "      <td>74.87</td>\n",
       "      <td>10.707873</td>\n",
       "      <td>2015</td>\n",
       "    </tr>\n",
       "    <tr>\n",
       "      <th>2</th>\n",
       "      <td>Denmark</td>\n",
       "      <td>3</td>\n",
       "      <td>7.527</td>\n",
       "      <td>0.48357</td>\n",
       "      <td>Very High</td>\n",
       "      <td>6.0</td>\n",
       "      <td>0.936</td>\n",
       "      <td>80.7380</td>\n",
       "      <td>19.237009</td>\n",
       "      <td>12.638320</td>\n",
       "      <td>...</td>\n",
       "      <td>0.978</td>\n",
       "      <td>6.731853</td>\n",
       "      <td>3.599750</td>\n",
       "      <td>4.332840</td>\n",
       "      <td>12.26297</td>\n",
       "      <td>0.035</td>\n",
       "      <td>4.0</td>\n",
       "      <td>24.70</td>\n",
       "      <td>6.188361</td>\n",
       "      <td>2015</td>\n",
       "    </tr>\n",
       "    <tr>\n",
       "      <th>3</th>\n",
       "      <td>Norway</td>\n",
       "      <td>4</td>\n",
       "      <td>7.522</td>\n",
       "      <td>0.36503</td>\n",
       "      <td>Very High</td>\n",
       "      <td>2.0</td>\n",
       "      <td>0.953</td>\n",
       "      <td>82.2718</td>\n",
       "      <td>17.783890</td>\n",
       "      <td>12.771210</td>\n",
       "      <td>...</td>\n",
       "      <td>0.993</td>\n",
       "      <td>6.363238</td>\n",
       "      <td>2.842695</td>\n",
       "      <td>5.262840</td>\n",
       "      <td>10.98418</td>\n",
       "      <td>0.040</td>\n",
       "      <td>3.0</td>\n",
       "      <td>36.13</td>\n",
       "      <td>8.772584</td>\n",
       "      <td>2015</td>\n",
       "    </tr>\n",
       "    <tr>\n",
       "      <th>4</th>\n",
       "      <td>Canada</td>\n",
       "      <td>5</td>\n",
       "      <td>7.427</td>\n",
       "      <td>0.32957</td>\n",
       "      <td>Very High</td>\n",
       "      <td>15.0</td>\n",
       "      <td>0.926</td>\n",
       "      <td>81.9246</td>\n",
       "      <td>15.891400</td>\n",
       "      <td>13.698088</td>\n",
       "      <td>...</td>\n",
       "      <td>0.984</td>\n",
       "      <td>8.284095</td>\n",
       "      <td>4.404285</td>\n",
       "      <td>2.696000</td>\n",
       "      <td>17.75200</td>\n",
       "      <td>0.103</td>\n",
       "      <td>11.0</td>\n",
       "      <td>34.42</td>\n",
       "      <td>15.906585</td>\n",
       "      <td>2015</td>\n",
       "    </tr>\n",
       "  </tbody>\n",
       "</table>\n",
       "<p>5 rows × 21 columns</p>\n",
       "</div>"
      ],
      "text/plain": [
       "       Country  Happiness Rank  Happiness Score  Corruption  \\\n",
       "0  Switzerland               1            7.587     0.41978   \n",
       "1      Iceland               2            7.561     0.14145   \n",
       "2      Denmark               3            7.527     0.48357   \n",
       "3       Norway               4            7.522     0.36503   \n",
       "4       Canada               5            7.427     0.32957   \n",
       "\n",
       "  Human Development Groups  HDI Rank (2021)  Human Development Index  \\\n",
       "0                Very High              1.0                    0.954   \n",
       "1                Very High              3.0                    0.945   \n",
       "2                Very High              6.0                    0.936   \n",
       "3                Very High              2.0                    0.953   \n",
       "4                Very High             15.0                    0.926   \n",
       "\n",
       "   Life Expectancy at Birth  Expected Years of Schooling  \\\n",
       "0                   82.8468                    16.194010   \n",
       "1                   82.3508                    19.347700   \n",
       "2                   80.7380                    19.237009   \n",
       "3                   82.2718                    17.783890   \n",
       "4                   81.9246                    15.891400   \n",
       "\n",
       "   Mean Years of Schooling  ...  Gender Development Index  \\\n",
       "0                13.711880  ...                     0.970   \n",
       "1                13.184354  ...                     0.974   \n",
       "2                12.638320  ...                     0.978   \n",
       "3                12.771210  ...                     0.993   \n",
       "4                13.698088  ...                     0.984   \n",
       "\n",
       "   Coefficient of human inequality  Inequality in life expectancy  \\\n",
       "0                         6.080309                       3.678839   \n",
       "1                         5.621693                       2.638380   \n",
       "2                         6.731853                       3.599750   \n",
       "3                         6.363238                       2.842695   \n",
       "4                         8.284095                       4.404285   \n",
       "\n",
       "   Inequality in eduation  Inequality in income  Gender Inequality Index  \\\n",
       "0                2.366899              12.19519                    0.039   \n",
       "1                2.554160              11.67254                    0.063   \n",
       "2                4.332840              12.26297                    0.035   \n",
       "3                5.262840              10.98418                    0.040   \n",
       "4                2.696000              17.75200                    0.103   \n",
       "\n",
       "   Maternal Mortality Ratio (deaths per 100,000 live births)  \\\n",
       "0                                                5.0           \n",
       "1                                                4.0           \n",
       "2                                                4.0           \n",
       "3                                                3.0           \n",
       "4                                               11.0           \n",
       "\n",
       "   Material footprint per capita (tonnes)  \\\n",
       "0                                   33.83   \n",
       "1                                   74.87   \n",
       "2                                   24.70   \n",
       "3                                   36.13   \n",
       "4                                   34.42   \n",
       "\n",
       "   Carbon dioxide emissions per capita (production) (tonnes)  Year  \n",
       "0                                           4.668199          2015  \n",
       "1                                          10.707873          2015  \n",
       "2                                           6.188361          2015  \n",
       "3                                           8.772584          2015  \n",
       "4                                          15.906585          2015  \n",
       "\n",
       "[5 rows x 21 columns]"
      ]
     },
     "execution_count": 47,
     "metadata": {},
     "output_type": "execute_result"
    }
   ],
   "source": [
    "df_15.head()"
   ]
  },
  {
   "cell_type": "code",
   "execution_count": 48,
   "metadata": {},
   "outputs": [
    {
     "data": {
      "text/html": [
       "<div>\n",
       "<style scoped>\n",
       "    .dataframe tbody tr th:only-of-type {\n",
       "        vertical-align: middle;\n",
       "    }\n",
       "\n",
       "    .dataframe tbody tr th {\n",
       "        vertical-align: top;\n",
       "    }\n",
       "\n",
       "    .dataframe thead th {\n",
       "        text-align: right;\n",
       "    }\n",
       "</style>\n",
       "<table border=\"1\" class=\"dataframe\">\n",
       "  <thead>\n",
       "    <tr style=\"text-align: right;\">\n",
       "      <th></th>\n",
       "      <th>Country</th>\n",
       "      <th>Happiness Rank</th>\n",
       "      <th>Happiness Score</th>\n",
       "      <th>Corruption</th>\n",
       "      <th>Human Development Groups</th>\n",
       "      <th>HDI Rank (2021)</th>\n",
       "      <th>Human Development Index</th>\n",
       "      <th>Life Expectancy at Birth</th>\n",
       "      <th>Expected Years of Schooling</th>\n",
       "      <th>Mean Years of Schooling</th>\n",
       "      <th>...</th>\n",
       "      <th>Gender Development Index</th>\n",
       "      <th>Coefficient of human inequality</th>\n",
       "      <th>Inequality in life expectancy</th>\n",
       "      <th>Inequality in eduation</th>\n",
       "      <th>Inequality in income</th>\n",
       "      <th>Gender Inequality Index</th>\n",
       "      <th>Maternal Mortality Ratio (deaths per 100,000 live births)</th>\n",
       "      <th>Material footprint per capita (tonnes)</th>\n",
       "      <th>Carbon dioxide emissions per capita (production) (tonnes)</th>\n",
       "      <th>Year</th>\n",
       "    </tr>\n",
       "  </thead>\n",
       "  <tbody>\n",
       "    <tr>\n",
       "      <th>0</th>\n",
       "      <td>Finland</td>\n",
       "      <td>1</td>\n",
       "      <td>7.769</td>\n",
       "      <td>0.393</td>\n",
       "      <td>Very High</td>\n",
       "      <td>11.0</td>\n",
       "      <td>0.939</td>\n",
       "      <td>81.8706</td>\n",
       "      <td>19.051929</td>\n",
       "      <td>12.87362</td>\n",
       "      <td>...</td>\n",
       "      <td>0.989</td>\n",
       "      <td>5.196900</td>\n",
       "      <td>3.013649</td>\n",
       "      <td>2.23918</td>\n",
       "      <td>10.33787</td>\n",
       "      <td>0.031</td>\n",
       "      <td>3.0</td>\n",
       "      <td>36.73</td>\n",
       "      <td>7.690672</td>\n",
       "      <td>2019</td>\n",
       "    </tr>\n",
       "    <tr>\n",
       "      <th>1</th>\n",
       "      <td>Denmark</td>\n",
       "      <td>2</td>\n",
       "      <td>7.600</td>\n",
       "      <td>0.410</td>\n",
       "      <td>Very High</td>\n",
       "      <td>6.0</td>\n",
       "      <td>0.946</td>\n",
       "      <td>81.4337</td>\n",
       "      <td>18.714800</td>\n",
       "      <td>12.91060</td>\n",
       "      <td>...</td>\n",
       "      <td>0.981</td>\n",
       "      <td>5.654176</td>\n",
       "      <td>3.171469</td>\n",
       "      <td>2.90482</td>\n",
       "      <td>10.88624</td>\n",
       "      <td>0.016</td>\n",
       "      <td>4.0</td>\n",
       "      <td>25.86</td>\n",
       "      <td>5.353078</td>\n",
       "      <td>2019</td>\n",
       "    </tr>\n",
       "    <tr>\n",
       "      <th>2</th>\n",
       "      <td>Norway</td>\n",
       "      <td>3</td>\n",
       "      <td>7.554</td>\n",
       "      <td>0.341</td>\n",
       "      <td>Very High</td>\n",
       "      <td>2.0</td>\n",
       "      <td>0.961</td>\n",
       "      <td>82.9552</td>\n",
       "      <td>18.185200</td>\n",
       "      <td>13.00363</td>\n",
       "      <td>...</td>\n",
       "      <td>0.990</td>\n",
       "      <td>5.530067</td>\n",
       "      <td>2.720520</td>\n",
       "      <td>2.33240</td>\n",
       "      <td>11.53728</td>\n",
       "      <td>0.016</td>\n",
       "      <td>2.0</td>\n",
       "      <td>38.82</td>\n",
       "      <td>7.969165</td>\n",
       "      <td>2019</td>\n",
       "    </tr>\n",
       "    <tr>\n",
       "      <th>3</th>\n",
       "      <td>Iceland</td>\n",
       "      <td>4</td>\n",
       "      <td>7.494</td>\n",
       "      <td>0.118</td>\n",
       "      <td>Very High</td>\n",
       "      <td>3.0</td>\n",
       "      <td>0.960</td>\n",
       "      <td>82.4042</td>\n",
       "      <td>19.163059</td>\n",
       "      <td>13.72736</td>\n",
       "      <td>...</td>\n",
       "      <td>0.980</td>\n",
       "      <td>4.646738</td>\n",
       "      <td>2.225375</td>\n",
       "      <td>2.20077</td>\n",
       "      <td>9.51407</td>\n",
       "      <td>0.051</td>\n",
       "      <td>4.0</td>\n",
       "      <td>59.61</td>\n",
       "      <td>10.473084</td>\n",
       "      <td>2019</td>\n",
       "    </tr>\n",
       "    <tr>\n",
       "      <th>4</th>\n",
       "      <td>Netherlands</td>\n",
       "      <td>5</td>\n",
       "      <td>7.488</td>\n",
       "      <td>0.298</td>\n",
       "      <td>Very High</td>\n",
       "      <td>10.0</td>\n",
       "      <td>0.943</td>\n",
       "      <td>82.0455</td>\n",
       "      <td>18.693165</td>\n",
       "      <td>12.45232</td>\n",
       "      <td>...</td>\n",
       "      <td>0.965</td>\n",
       "      <td>6.881701</td>\n",
       "      <td>3.487623</td>\n",
       "      <td>5.36710</td>\n",
       "      <td>11.79038</td>\n",
       "      <td>0.028</td>\n",
       "      <td>5.0</td>\n",
       "      <td>32.26</td>\n",
       "      <td>8.983964</td>\n",
       "      <td>2019</td>\n",
       "    </tr>\n",
       "  </tbody>\n",
       "</table>\n",
       "<p>5 rows × 21 columns</p>\n",
       "</div>"
      ],
      "text/plain": [
       "       Country  Happiness Rank  Happiness Score  Corruption  \\\n",
       "0      Finland               1            7.769       0.393   \n",
       "1      Denmark               2            7.600       0.410   \n",
       "2       Norway               3            7.554       0.341   \n",
       "3      Iceland               4            7.494       0.118   \n",
       "4  Netherlands               5            7.488       0.298   \n",
       "\n",
       "  Human Development Groups  HDI Rank (2021)  Human Development Index  \\\n",
       "0                Very High             11.0                    0.939   \n",
       "1                Very High              6.0                    0.946   \n",
       "2                Very High              2.0                    0.961   \n",
       "3                Very High              3.0                    0.960   \n",
       "4                Very High             10.0                    0.943   \n",
       "\n",
       "   Life Expectancy at Birth  Expected Years of Schooling  \\\n",
       "0                   81.8706                    19.051929   \n",
       "1                   81.4337                    18.714800   \n",
       "2                   82.9552                    18.185200   \n",
       "3                   82.4042                    19.163059   \n",
       "4                   82.0455                    18.693165   \n",
       "\n",
       "   Mean Years of Schooling  ...  Gender Development Index  \\\n",
       "0                 12.87362  ...                     0.989   \n",
       "1                 12.91060  ...                     0.981   \n",
       "2                 13.00363  ...                     0.990   \n",
       "3                 13.72736  ...                     0.980   \n",
       "4                 12.45232  ...                     0.965   \n",
       "\n",
       "   Coefficient of human inequality  Inequality in life expectancy  \\\n",
       "0                         5.196900                       3.013649   \n",
       "1                         5.654176                       3.171469   \n",
       "2                         5.530067                       2.720520   \n",
       "3                         4.646738                       2.225375   \n",
       "4                         6.881701                       3.487623   \n",
       "\n",
       "   Inequality in eduation  Inequality in income  Gender Inequality Index  \\\n",
       "0                 2.23918              10.33787                    0.031   \n",
       "1                 2.90482              10.88624                    0.016   \n",
       "2                 2.33240              11.53728                    0.016   \n",
       "3                 2.20077               9.51407                    0.051   \n",
       "4                 5.36710              11.79038                    0.028   \n",
       "\n",
       "   Maternal Mortality Ratio (deaths per 100,000 live births)  \\\n",
       "0                                                3.0           \n",
       "1                                                4.0           \n",
       "2                                                2.0           \n",
       "3                                                4.0           \n",
       "4                                                5.0           \n",
       "\n",
       "   Material footprint per capita (tonnes)  \\\n",
       "0                                   36.73   \n",
       "1                                   25.86   \n",
       "2                                   38.82   \n",
       "3                                   59.61   \n",
       "4                                   32.26   \n",
       "\n",
       "   Carbon dioxide emissions per capita (production) (tonnes)  Year  \n",
       "0                                           7.690672          2019  \n",
       "1                                           5.353078          2019  \n",
       "2                                           7.969165          2019  \n",
       "3                                          10.473084          2019  \n",
       "4                                           8.983964          2019  \n",
       "\n",
       "[5 rows x 21 columns]"
      ]
     },
     "execution_count": 48,
     "metadata": {},
     "output_type": "execute_result"
    }
   ],
   "source": [
    "df_19.head()"
   ]
  },
  {
   "cell_type": "code",
   "execution_count": 49,
   "metadata": {},
   "outputs": [],
   "source": [
    "def save(df, year):\n",
    "    df.to_csv('output/{}.csv'.format(year), index=False)"
   ]
  },
  {
   "cell_type": "code",
   "execution_count": 50,
   "metadata": {},
   "outputs": [],
   "source": [
    "save(df_15, 15)\n",
    "save(df_16, 16)\n",
    "save(df_17, 17)\n",
    "save(df_18, 18)\n",
    "save(df_19, 19)\n",
    "save(df_20, 20)\n",
    "save(df_21, 21)"
   ]
  },
  {
   "cell_type": "code",
   "execution_count": 51,
   "metadata": {},
   "outputs": [],
   "source": [
    "combined_df = pd.concat([df_15, df_16, df_17, df_18, df_19, df_20, df_21], axis=0)"
   ]
  },
  {
   "cell_type": "code",
   "execution_count": 52,
   "metadata": {},
   "outputs": [
    {
     "data": {
      "text/plain": [
       "((144, 21), (143, 21), (143, 21), (143, 21), (143, 21), (140, 21), (138, 21))"
      ]
     },
     "execution_count": 52,
     "metadata": {},
     "output_type": "execute_result"
    }
   ],
   "source": [
    "df_15.shape, df_16.shape, df_17.shape, df_18.shape, df_19.shape, df_20.shape, df_21.shape"
   ]
  },
  {
   "cell_type": "code",
   "execution_count": 53,
   "metadata": {},
   "outputs": [
    {
     "data": {
      "text/plain": [
       "(994, 21)"
      ]
     },
     "execution_count": 53,
     "metadata": {},
     "output_type": "execute_result"
    }
   ],
   "source": [
    "combined_df.shape"
   ]
  },
  {
   "cell_type": "code",
   "execution_count": 54,
   "metadata": {},
   "outputs": [],
   "source": [
    "save(combined_df, 'combined')"
   ]
  },
  {
   "cell_type": "code",
   "execution_count": 55,
   "metadata": {},
   "outputs": [
    {
     "data": {
      "text/plain": [
       "Country                                                       0\n",
       "Happiness Rank                                                0\n",
       "Happiness Score                                               0\n",
       "Corruption                                                    1\n",
       "Human Development Groups                                      4\n",
       "HDI Rank (2021)                                               4\n",
       "Human Development Index                                       4\n",
       "Life Expectancy at Birth                                      0\n",
       "Expected Years of Schooling                                   4\n",
       "Mean Years of Schooling                                       4\n",
       "Gross National Income Per Capita                              0\n",
       "Gender Development Index                                      5\n",
       "Coefficient of human inequality                              99\n",
       "Inequality in life expectancy                                 0\n",
       "Inequality in eduation                                       21\n",
       "Inequality in income                                         93\n",
       "Gender Inequality Index                                      14\n",
       "Maternal Mortality Ratio (deaths per 100,000 live births)     4\n",
       "Material footprint per capita (tonnes)                       37\n",
       "Carbon dioxide emissions per capita (production) (tonnes)     0\n",
       "Year                                                          0\n",
       "dtype: int64"
      ]
     },
     "execution_count": 55,
     "metadata": {},
     "output_type": "execute_result"
    }
   ],
   "source": [
    "combined_df.isnull().sum()"
   ]
  },
  {
   "cell_type": "code",
   "execution_count": 60,
   "metadata": {},
   "outputs": [],
   "source": [
    "df_1 = combined_df.drop(\n",
    "    ['Coefficient of human inequality',\n",
    "     'Inequality in income',\n",
    "     'Material footprint per capita (tonnes)',\n",
    "     ], axis=1)"
   ]
  },
  {
   "cell_type": "code",
   "execution_count": 66,
   "metadata": {},
   "outputs": [
    {
     "data": {
      "text/plain": [
       "Country                                                      0\n",
       "Happiness Rank                                               0\n",
       "Happiness Score                                              0\n",
       "Corruption                                                   0\n",
       "Human Development Groups                                     0\n",
       "HDI Rank (2021)                                              0\n",
       "Human Development Index                                      0\n",
       "Life Expectancy at Birth                                     0\n",
       "Expected Years of Schooling                                  0\n",
       "Mean Years of Schooling                                      0\n",
       "Gross National Income Per Capita                             0\n",
       "Gender Development Index                                     0\n",
       "Inequality in life expectancy                                0\n",
       "Inequality in eduation                                       0\n",
       "Gender Inequality Index                                      0\n",
       "Maternal Mortality Ratio (deaths per 100,000 live births)    0\n",
       "Carbon dioxide emissions per capita (production) (tonnes)    0\n",
       "Year                                                         0\n",
       "dtype: int64"
      ]
     },
     "execution_count": 66,
     "metadata": {},
     "output_type": "execute_result"
    }
   ],
   "source": [
    "df_1.isnull().sum()"
   ]
  },
  {
   "cell_type": "code",
   "execution_count": 65,
   "metadata": {},
   "outputs": [],
   "source": [
    "df_1.dropna(inplace=True)"
   ]
  },
  {
   "cell_type": "code",
   "execution_count": 67,
   "metadata": {},
   "outputs": [
    {
     "data": {
      "text/plain": [
       "(963, 18)"
      ]
     },
     "execution_count": 67,
     "metadata": {},
     "output_type": "execute_result"
    }
   ],
   "source": [
    "df_1.shape"
   ]
  },
  {
   "cell_type": "code",
   "execution_count": 68,
   "metadata": {},
   "outputs": [],
   "source": [
    "save(df_1, 'combined')"
   ]
  },
  {
   "cell_type": "code",
   "execution_count": null,
   "metadata": {},
   "outputs": [],
   "source": []
  }
 ],
 "metadata": {
  "kernelspec": {
   "display_name": "base",
   "language": "python",
   "name": "python3"
  },
  "language_info": {
   "codemirror_mode": {
    "name": "ipython",
    "version": 3
   },
   "file_extension": ".py",
   "mimetype": "text/x-python",
   "name": "python",
   "nbconvert_exporter": "python",
   "pygments_lexer": "ipython3",
   "version": "3.9.13"
  },
  "orig_nbformat": 4
 },
 "nbformat": 4,
 "nbformat_minor": 2
}
